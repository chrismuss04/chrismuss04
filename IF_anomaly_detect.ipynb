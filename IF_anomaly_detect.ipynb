{
  "nbformat": 4,
  "nbformat_minor": 0,
  "metadata": {
    "colab": {
      "provenance": [],
      "authorship_tag": "ABX9TyMYOyIIO8NuhJB2v7WAynXX",
      "include_colab_link": true
    },
    "kernelspec": {
      "name": "python3",
      "display_name": "Python 3"
    },
    "language_info": {
      "name": "python"
    }
  },
  "cells": [
    {
      "cell_type": "markdown",
      "metadata": {
        "id": "view-in-github",
        "colab_type": "text"
      },
      "source": [
        "<a href=\"https://colab.research.google.com/github/chrismuss04/chrismuss04/blob/main/IF_anomaly_detect.ipynb\" target=\"_parent\"><img src=\"https://colab.research.google.com/assets/colab-badge.svg\" alt=\"Open In Colab\"/></a>"
      ]
    },
    {
      "cell_type": "markdown",
      "source": [
        "This notebook is intended to build an Isolation Forest model to detect anomalies in a service dataset"
      ],
      "metadata": {
        "id": "3YipM3N0zoi_"
      }
    },
    {
      "cell_type": "code",
      "execution_count": 35,
      "metadata": {
        "id": "YE1WIRTvy9PT"
      },
      "outputs": [],
      "source": [
        "import pandas as pd\n",
        "\n",
        "df = pd.read_csv('SampleDataAnomaly.csv', low_memory=False)"
      ]
    },
    {
      "cell_type": "code",
      "source": [
        "print(df.columns)\n"
      ],
      "metadata": {
        "colab": {
          "base_uri": "https://localhost:8080/"
        },
        "id": "1wqKghne0W8U",
        "outputId": "505a0e8d-c661-46ef-e921-f86187bd97c8"
      },
      "execution_count": 36,
      "outputs": [
        {
          "output_type": "stream",
          "name": "stdout",
          "text": [
            "Index(['customer_name', 'customer360_id', 'customer_type', 'franchise_id',\n",
            "       'concept_id', 'concept_code', 'franchise_name', 'franchise_state',\n",
            "       'license_number', 'store_type_id', 'status', 'pos_invoice_id',\n",
            "       'pos_job_id', 'job_number', 'job_start_date', 'job_completed_date',\n",
            "       'job_summary', 'invoice_sub_total', 'service_location_address',\n",
            "       'service_location_city', 'service_location_state', 'country',\n",
            "       'service_location_zip_postal_code', 'technician_id', 'technician_name',\n",
            "       'service_name', 'cluster', 'net_sales', 'sales_type', 'terminationdate',\n",
            "       'franchiseestatus'],\n",
            "      dtype='object')\n"
          ]
        }
      ]
    },
    {
      "cell_type": "code",
      "source": [
        "filtered_df = df.drop(columns=['customer_name', 'concept_code', 'cluster', 'customer360_id', 'franchise_id', 'concept_id', 'license_number', 'pos_invoice_id', 'pos_job_id', 'job_summary', 'service_location_city', 'service_location_address', 'service_location_state', 'technician_id', 'technician_name'])\n",
        "# print col:#unique vals for all cols\n",
        "print(filtered_df.nunique())"
      ],
      "metadata": {
        "colab": {
          "base_uri": "https://localhost:8080/"
        },
        "id": "-qlKwMuf1qOU",
        "outputId": "73a0d329-3d4a-4ff8-eadc-fcafe8710cb3"
      },
      "execution_count": 45,
      "outputs": [
        {
          "output_type": "stream",
          "name": "stdout",
          "text": [
            "customer_type                             2\n",
            "franchise_name                          283\n",
            "franchise_state                          50\n",
            "store_type_id                             2\n",
            "status                                    2\n",
            "job_number                          1000448\n",
            "job_start_date                         1282\n",
            "job_completed_date                    36000\n",
            "invoice_sub_total                    192263\n",
            "country                                   2\n",
            "service_location_zip_postal_code      85400\n",
            "service_name                          30100\n",
            "net_sales                                 0\n",
            "sales_type                                0\n",
            "terminationdate                           1\n",
            "franchiseestatus                          2\n",
            "dtype: int64\n"
          ]
        }
      ]
    }
  ]
}